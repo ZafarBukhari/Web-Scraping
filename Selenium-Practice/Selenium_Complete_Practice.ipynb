{
 "cells": [
  {
   "cell_type": "markdown",
   "metadata": {},
   "source": [
    "# Part-1 (Extracting Page Title):"
   ]
  },
  {
   "cell_type": "code",
   "execution_count": 16,
   "metadata": {},
   "outputs": [
    {
     "name": "stdout",
     "output_type": "stream",
     "text": [
      "Wikipedia, the free encyclopedia\n"
     ]
    }
   ],
   "source": [
    "import time\n",
    "from selenium import webdriver\n",
    "\n",
    "driver = webdriver.Chrome()\n",
    "driver.get('https://en.wikipedia.org/')\n",
    "\n",
    "print(driver.title)\n",
    "time.sleep(8)\n",
    "\n",
    "driver.close()"
   ]
  },
  {
   "cell_type": "markdown",
   "metadata": {},
   "source": [
    "# Part-4 (Extracting Email Addresses):"
   ]
  },
  {
   "cell_type": "code",
   "execution_count": 17,
   "metadata": {},
   "outputs": [
    {
     "name": "stdout",
     "output_type": "stream",
     "text": [
      "contactus@airindia.in\n",
      "contactus@airindia.in\n",
      "traveldocs@airindia.in\n",
      "traveldocs@airindia.in\n",
      "ecommerce@airindia.in\n",
      "eCommerce@airindia.in\n",
      "ecommerce@airindia.in\n",
      "flyingreturn.base@airindia.in\n",
      "flyingreturn.base@airindia.in\n",
      "airindia.retros@airindia.in\n",
      "airindia.retros@airindia.in\n",
      "star.retros@airindia.in\n",
      "star.retros@airindia.in\n",
      "silver.edge@airindia.in\n",
      "silver.edge@airindia.in\n",
      "golden.edge@airindia.in\n",
      "golden.edge@airindia.in\n",
      "maharajah.club@airindia.in\n",
      "maharajah.club@airindia.in\n"
     ]
    }
   ],
   "source": [
    "from selenium import webdriver\n",
    "import re\n",
    "\n",
    "driver = webdriver.Chrome()\n",
    "driver.get('http://www.airindia.in/contact-details.htm')\n",
    "\n",
    "doc = driver.page_source\n",
    "\n",
    "emails = re.findall(r'[\\w\\.-]+@[\\w\\.-]+',doc)\n",
    "\n",
    "for email in emails:\n",
    "    print(email)\n",
    "    \n",
    "driver.close()"
   ]
  },
  {
   "cell_type": "code",
   "execution_count": 18,
   "metadata": {},
   "outputs": [
    {
     "name": "stdout",
     "output_type": "stream",
     "text": [
      "info@piac.aero\n",
      "info@piac.aero\n",
      "care@piac.aero\n",
      "care@piac.aero\n",
      "contact@piac.aero\n",
      "contact@piac.aero\n",
      "khifrpk@piac.aero\n",
      "khifrpk@piac.aero\n",
      "shares@piac.aero\n",
      "shares@piac.aero\n",
      "web.ticketing@piac.aero\n",
      "web.ticketing@piac.aero\n",
      "khiwtpk@piac.aero\n",
      "khiwtpk@piac.aero\n"
     ]
    }
   ],
   "source": [
    "import re\n",
    "from selenium import webdriver\n",
    "\n",
    "driver = webdriver.Chrome()\n",
    "\n",
    "driver.get('https://www.piac.com.pk/contact-us')\n",
    "\n",
    "doc = driver.page_source\n",
    "\n",
    "emails = re.findall(r'[\\w\\.-]+@[\\w\\.-]+',doc)\n",
    "\n",
    "for email in emails:\n",
    "    print(email)\n",
    "    \n",
    "driver.close()"
   ]
  },
  {
   "cell_type": "markdown",
   "metadata": {},
   "source": [
    "# Part-5 (Extracting Phone Numbers):"
   ]
  },
  {
   "cell_type": "code",
   "execution_count": 19,
   "metadata": {},
   "outputs": [
    {
     "name": "stdout",
     "output_type": "stream",
     "text": [
      "308-2220203\n",
      "308-2220203\n",
      "311-1729526\n",
      "051-4940669\n",
      "336-6660215\n",
      "051-2223191\n"
     ]
    }
   ],
   "source": [
    "from selenium import webdriver\n",
    "import re\n",
    "\n",
    "driver = webdriver.Chrome()\n",
    "driver.get('https://www.piaic.org/')\n",
    "\n",
    "doc = driver.page_source\n",
    "\n",
    "phones = re.findall(r'[\\d]{3}-[\\d]{7}',doc)\n",
    "\n",
    "for phone in phones:\n",
    "    print(phone)\n",
    "    \n",
    "driver.close()"
   ]
  },
  {
   "cell_type": "markdown",
   "metadata": {},
   "source": [
    "# Part-6 (find_element_by_id):"
   ]
  },
  {
   "cell_type": "code",
   "execution_count": 21,
   "metadata": {},
   "outputs": [
    {
     "name": "stdout",
     "output_type": "stream",
     "text": [
      "Test Pass: ID found\n"
     ]
    }
   ],
   "source": [
    "from selenium import webdriver\n",
    "\n",
    "driver = webdriver.Chrome()\n",
    "driver.get('https://www.google.com/')\n",
    "\n",
    "try:\n",
    "    driver.find_element_by_id('gbw')\n",
    "    print('Test Pass: ID found')\n",
    "except Exception as e:\n",
    "    print('Exception found',format(e))\n",
    "driver.close()"
   ]
  },
  {
   "cell_type": "markdown",
   "metadata": {},
   "source": [
    "# Part-7 (find_element_by_tag_name):"
   ]
  },
  {
   "cell_type": "code",
   "execution_count": 22,
   "metadata": {},
   "outputs": [
    {
     "name": "stdout",
     "output_type": "stream",
     "text": [
      "Passed Test: tag name found\n"
     ]
    }
   ],
   "source": [
    "from selenium import webdriver\n",
    "\n",
    "driver = webdriver.Chrome()\n",
    "driver.get('https://www.google.com/')\n",
    "\n",
    "try:\n",
    "    driver.find_element_by_tag_name('form')\n",
    "    print(\"Passed Test: tag name found\")\n",
    "except Exception as e:\n",
    "    print('Exception found',format(e))\n",
    "driver.close()"
   ]
  },
  {
   "cell_type": "code",
   "execution_count": 23,
   "metadata": {},
   "outputs": [
    {
     "name": "stdout",
     "output_type": "stream",
     "text": [
      "Exception found Message: no such element: Unable to locate element: {\"method\":\"css selector\",\"selector\":\"form1\"}\n",
      "  (Session info: chrome=79.0.3945.130)\n",
      "\n"
     ]
    }
   ],
   "source": [
    "# When element not found, exception message will be displayed\n",
    "\n",
    "from selenium import webdriver\n",
    "\n",
    "driver = webdriver.Chrome()\n",
    "driver.get('https://www.google.com/')\n",
    "\n",
    "try:\n",
    "    driver.find_element_by_tag_name('form1')  # here tag_name ('form1')  is wrongly entered to diplay exception message\n",
    "    print(\"Passed Test: tag name found\")\n",
    "except Exception as e:\n",
    "    print('Exception found',format(e))\n",
    "driver.close()"
   ]
  },
  {
   "cell_type": "markdown",
   "metadata": {},
   "source": [
    "# Part-8 (find_id_elements):"
   ]
  },
  {
   "cell_type": "code",
   "execution_count": 26,
   "metadata": {},
   "outputs": [
    {
     "name": "stdout",
     "output_type": "stream",
     "text": [
      "metro-pro-theme-css\n",
      "wp-block-library-css\n",
      "wp-block-library-inline-css\n",
      "contact-form-7-css\n",
      "google-font-css\n",
      "jetpack_css-css\n",
      "gravatar-card-css\n",
      "gravatar-card-services-css\n",
      "search-3\n",
      "searchform-1\n",
      "menu-navi\n",
      "menu-item-465\n",
      "menu-item-466\n",
      "menu-item-467\n",
      "menu-item-468\n",
      "menu-item-469\n",
      "menu-item-1086\n",
      "text-3\n",
      "recent-posts-3\n",
      "text-4\n",
      "text-5\n",
      "amzn_assoc_ad_div_adunit_0\n",
      "wpstats\n"
     ]
    }
   ],
   "source": [
    "from selenium import webdriver\n",
    "\n",
    "driver = webdriver.Chrome()\n",
    "driver.get('http://onecore.net')\n",
    "\n",
    "ids = driver.find_elements_by_xpath('//*[@id]')\n",
    "\n",
    "for ii in ids:\n",
    "    print(ii.get_attribute('id'))\n",
    "    \n",
    "driver.close()"
   ]
  },
  {
   "cell_type": "markdown",
   "metadata": {},
   "source": [
    "# Part-9 (Google Search Using Python Script):"
   ]
  },
  {
   "cell_type": "code",
   "execution_count": 32,
   "metadata": {},
   "outputs": [
    {
     "name": "stdout",
     "output_type": "stream",
     "text": [
      "Enter search query: live.arynews.tv\n"
     ]
    },
    {
     "data": {
      "text/plain": [
       "True"
      ]
     },
     "execution_count": 32,
     "metadata": {},
     "output_type": "execute_result"
    }
   ],
   "source": [
    "import webbrowser\n",
    "\n",
    "new = 2\n",
    "\n",
    "tabUrl = 'https://www.google.com/?#q='\n",
    "\n",
    "query = input(\"Enter search query: \")\n",
    "\n",
    "webbrowser.open(tabUrl + query, new=new)\n",
    "\n"
   ]
  },
  {
   "cell_type": "markdown",
   "metadata": {},
   "source": [
    "# Part-10 (Extract URLs from Web Page in Python):"
   ]
  },
  {
   "cell_type": "code",
   "execution_count": 39,
   "metadata": {},
   "outputs": [
    {
     "name": "stdout",
     "output_type": "stream",
     "text": [
      "[   {   'class': ['gb1'],\n",
      "        'href': 'https://www.google.com.pk/imghp?hl=en&tab=wi',\n",
      "        'seo': 'imghp?hl=en&tab=wi',\n",
      "        'text': 'Images'},\n",
      "    {   'class': ['gb1'],\n",
      "        'href': 'https://play.google.com/?hl=en&tab=w8',\n",
      "        'seo': '?hl=en&tab=w8',\n",
      "        'text': 'Play'},\n",
      "    {   'class': ['gb1'],\n",
      "        'href': 'https://www.youtube.com/?gl=PK&tab=w1',\n",
      "        'seo': '?gl=PK&tab=w1',\n",
      "        'text': 'YouTube'},\n",
      "    {   'class': ['gb1'],\n",
      "        'href': 'https://news.google.com.pk/nwshp?hl=en&tab=wn',\n",
      "        'seo': 'nwshp?hl=en&tab=wn',\n",
      "        'text': 'News'},\n",
      "    {   'class': ['gb1'],\n",
      "        'href': 'https://mail.google.com/mail/?tab=wm',\n",
      "        'seo': '?tab=wm',\n",
      "        'text': 'Gmail'},\n",
      "    {   'class': ['gb1'],\n",
      "        'href': 'https://drive.google.com/?tab=wo',\n",
      "        'seo': '?tab=wo',\n",
      "        'text': 'Drive'},\n",
      "    {   'class': ['gb1'],\n",
      "        'href': 'https://www.google.com/calendar?tab=wc',\n",
      "        'seo': 'calendar?tab=wc',\n",
      "        'text': 'Calendar'},\n",
      "    {   'class': ['gb1'],\n",
      "        'href': 'https://www.google.com.pk/intl/en/about/products?tab=wh',\n",
      "        'seo': 'products?tab=wh',\n",
      "        'style': 'text-decoration:none',\n",
      "        'text': 'products?tab=wh'}]\n",
      "None\n"
     ]
    }
   ],
   "source": [
    "import re\n",
    "import linkGrabber\n",
    "\n",
    "links = linkGrabber.Links('https://www.google.com/')\n",
    "gb = links.find(limit=8, duplicates=False, pretty=True)\n",
    "\n",
    "print(gb)"
   ]
  },
  {
   "cell_type": "markdown",
   "metadata": {},
   "source": [
    "# Part-11 (Python Selenium Clear Text Field by_name):"
   ]
  },
  {
   "cell_type": "code",
   "execution_count": 17,
   "metadata": {},
   "outputs": [],
   "source": [
    "from selenium import webdriver\n",
    "import time\n",
    "from selenium.webdriver.common.keys import Keys\n",
    "\n",
    "driver = webdriver.Chrome()\n",
    "\n",
    "driver.set_page_load_timeout(10)\n",
    "driver.maximize_window()\n",
    "\n",
    "driver.get(\"https://www.google.com/\")\n",
    "\n",
    "search = driver.find_element_by_name('q')\n",
    "search.send_keys(\"argentina vnl 2019\")\n",
    "search.send_keys(Keys.ENTER)\n",
    "\n",
    "time.sleep(4)\n",
    "driver.quit()"
   ]
  },
  {
   "cell_type": "markdown",
   "metadata": {},
   "source": [
    "# Part-12 (Find All href Elements XPath):"
   ]
  },
  {
   "cell_type": "code",
   "execution_count": 24,
   "metadata": {},
   "outputs": [
    {
     "name": "stdout",
     "output_type": "stream",
     "text": [
      "https://www.google.com/\n",
      "https://secure.gravatar.com/\n",
      "https://fonts.googleapis.com/\n",
      "https://s.w.org/\n",
      "https://onecore.net/feed\n",
      "https://onecore.net/comments/feed\n",
      "https://onecore.net/\n",
      "https://onecore.net/wp-content/themes/metro-pro/style.css?ver=2.0.0\n",
      "https://c0.wp.com/c/5.2.5/wp-includes/css/dist/block-library/style.min.css\n",
      "https://onecore.net/wp-content/plugins/contact-form-7/includes/css/styles.css?ver=5.1.4\n",
      "https://fonts.googleapis.com/css?family=Oswald%3A400&ver=2.0.0\n",
      "https://c0.wp.com/p/jetpack/8.2.1/css/jetpack.css\n",
      "https://onecore.net/wp-json/\n",
      "https://onecore.net/xmlrpc.php?rsd\n",
      "https://v0.wordpress.com/\n",
      "https://i0.wp.com/\n",
      "https://i1.wp.com/\n",
      "https://i2.wp.com/\n",
      "https://jetpack.wordpress.com/\n",
      "https://s0.wp.com/\n",
      "https://s1.wp.com/\n",
      "https://s2.wp.com/\n",
      "https://public-api.wordpress.com/\n",
      "https://0.gravatar.com/\n",
      "https://1.gravatar.com/\n",
      "https://2.gravatar.com/\n",
      "https://c0.wp.com/\n",
      "https://onecore.net/wp-content/themes/metro-pro/images/favicon.ico\n",
      "https://onecore.net/page/2\n",
      "https://secure.gravatar.com/dist/css/hovercard.min.css?ver=2020Febaa\n",
      "https://secure.gravatar.com/dist/css/services.min.css?ver=2020Febaa\n",
      "https://onecore.net/\n",
      "https://onecore.net/\n",
      "https://onecore.net/about\n",
      "https://onecore.net/advertise\n",
      "https://onecore.net/archives\n",
      "https://onecore.net/privacy-policy\n",
      "https://onecore.net/contact\n",
      "https://onecore.net/sample-test-cases-for-calendar-app.htm\n",
      "https://onecore.net/sample-test-cases-for-calendar-app.htm#more-1204\n",
      "https://onecore.net/sample-test-cases-for-dialog-box.htm\n",
      "https://onecore.net/sample-test-cases-for-dialog-box.htm#more-1200\n",
      "https://onecore.net/test-cases-for-amazon-login-screen-page.htm\n",
      "https://onecore.net/test-cases-for-amazon-login-screen-page.htm#more-1078\n",
      "https://onecore.net/sample-test-cases-for-online-editor.htm\n",
      "https://onecore.net/sample-test-cases-for-online-editor.htm#more-1052\n",
      "https://onecore.net/sample-test-cases-for-online-book-shopping.htm\n",
      "https://onecore.net/sample-test-cases-for-online-book-shopping.htm#more-1038\n",
      "https://onecore.net/sample-test-cases-for-refrigerator.htm\n",
      "https://onecore.net/sample-test-cases-for-refrigerator.htm#more-1022\n",
      "https://onecore.net/sample-test-cases-for-water-dispenser.htm\n",
      "https://onecore.net/sample-test-cases-for-water-dispenser.htm#more-1015\n",
      "https://onecore.net/sample-test-cases-for-search-filter.htm\n",
      "https://onecore.net/sample-test-cases-for-search-filter.htm#more-1008\n",
      "https://onecore.net/learn-rstudio-ide.htm\n",
      "https://onecore.net/learn-rstudio-ide.htm#more-1004\n",
      "https://onecore.net/introduction-to-r-programming.htm\n",
      "https://onecore.net/introduction-to-r-programming.htm#more-999\n",
      "https://onecore.net/page/2\n",
      "https://onecore.net/go/testing-templates\n",
      "https://onecore.net/sample-test-cases-for-calendar-app.htm\n",
      "https://onecore.net/sample-test-cases-for-dialog-box.htm\n",
      "https://onecore.net/test-cases-for-amazon-login-screen-page.htm\n",
      "https://onecore.net/sample-test-cases-for-online-editor.htm\n",
      "https://onecore.net/sample-test-cases-for-online-book-shopping.htm\n",
      "http://shareasale.com/r.cfm?b=838942&u=417784&m=64312&urllink=&afftrack=\n"
     ]
    }
   ],
   "source": [
    "from selenium import webdriver\n",
    "import time\n",
    "\n",
    "driver = webdriver.Chrome()\n",
    "\n",
    "driver.get('http://onecore.net')\n",
    "\n",
    "ids = driver.find_elements_by_xpath('//*[@href]')\n",
    "\n",
    "for id in ids:\n",
    "    print(id.get_attribute('href'))\n",
    "\n",
    "time.sleep(4)    \n",
    "driver.quit()"
   ]
  },
  {
   "cell_type": "markdown",
   "metadata": {},
   "source": [
    "# Part-13 (Find Link by Text):"
   ]
  },
  {
   "cell_type": "code",
   "execution_count": 25,
   "metadata": {},
   "outputs": [
    {
     "name": "stdout",
     "output_type": "stream",
     "text": [
      "Test Pass: Element found by link text.\n"
     ]
    }
   ],
   "source": [
    "from selenium import webdriver\n",
    "\n",
    "driver = webdriver.Chrome()\n",
    "\n",
    "driver.get('https://www.google.com/')\n",
    "\n",
    "try:\n",
    "    driver.find_element_by_link_text\n",
    "    print('Test Pass: Element found by link text.')\n",
    "except Exception as e:\n",
    "    print('Exception found', format(e))\n",
    "driver.quit()"
   ]
  },
  {
   "cell_type": "markdown",
   "metadata": {},
   "source": [
    "# Part-14 (find link by partial link text):"
   ]
  },
  {
   "cell_type": "code",
   "execution_count": 29,
   "metadata": {},
   "outputs": [
    {
     "name": "stdout",
     "output_type": "stream",
     "text": [
      "Test Passed: Partial link text found.\n"
     ]
    }
   ],
   "source": [
    "from selenium import webdriver\n",
    "\n",
    "driver = webdriver.Chrome()\n",
    "driver.get('https://en.wikipedia.com')\n",
    "\n",
    "try:\n",
    "    driver.find_element_by_partial_link_text('Terms')\n",
    "    print('Test Passed: Partial link text found.')\n",
    "except Exception as e:\n",
    "    print('Exception found', format(e))\n",
    "driver.quit()"
   ]
  },
  {
   "cell_type": "markdown",
   "metadata": {},
   "source": [
    "## find link by partial link text - Exception Raised:"
   ]
  },
  {
   "cell_type": "code",
   "execution_count": 30,
   "metadata": {},
   "outputs": [
    {
     "name": "stdout",
     "output_type": "stream",
     "text": [
      "Exception found Message: no such element: Unable to locate element: {\"method\":\"partial link text\",\"selector\":\"Terms--\"}\n",
      "  (Session info: chrome=79.0.3945.130)\n",
      "\n"
     ]
    }
   ],
   "source": [
    "from selenium import webdriver\n",
    "\n",
    "driver = webdriver.Chrome()\n",
    "driver.get('https://en.wikipedia.com')\n",
    "\n",
    "try:\n",
    "    driver.find_element_by_partial_link_text('Terms--')   # here search word 'Terms--' not found at given link\n",
    "    print('Test Passed: Partial link text found.')\n",
    "except Exception as e:\n",
    "    print('Exception found', format(e))\n",
    "driver.quit()"
   ]
  },
  {
   "cell_type": "markdown",
   "metadata": {},
   "source": [
    "# Part-15 (find Link by XPath):"
   ]
  },
  {
   "cell_type": "code",
   "execution_count": 35,
   "metadata": {},
   "outputs": [
    {
     "name": "stdout",
     "output_type": "stream",
     "text": [
      "Test Passed: link text class by xpath found.\n"
     ]
    }
   ],
   "source": [
    "from selenium import webdriver\n",
    "\n",
    "driver = webdriver.Chrome()\n",
    "driver.get('https://www.google.com/')\n",
    "\n",
    "try:\n",
    "    driver.find_element_by_xpath(\"//a[@class='Fx4vi']\")   # class named 'Fx4vi' exists so, test will be passed.\n",
    "    print('Test Passed: link text class by xpath found.')\n",
    "except Exception as e:\n",
    "    print('Exception found', format(e))\n",
    "driver.quit()"
   ]
  },
  {
   "cell_type": "markdown",
   "metadata": {},
   "source": [
    "# Part-16 (Get all Class elements XPath):"
   ]
  },
  {
   "cell_type": "code",
   "execution_count": 36,
   "metadata": {},
   "outputs": [
    {
     "name": "stdout",
     "output_type": "stream",
     "text": [
      "hp vasq\n",
      "ctr-p\n",
      "og-pdp\n",
      "gb_Id gb_3c gb_na\n",
      "gb_Kd gb_nd\n",
      "gb_Kd gb_kd\n",
      "gb_Rf\n",
      "gb_Id gb_3c\n",
      "gb_Kd gb_nd\n",
      "gb_Kd gb_kd\n",
      "gb_Ua gb_Ag gb_i gb_zg gb_Dg gb_Rf\n",
      "gb_be gb_i gb_Ag gb_rg\n",
      "gb_h gb_i\n",
      "gb_g\n",
      "gb_h gb_i\n",
      "gb_g\n",
      "gb_Uc gb_Ag gb_i\n",
      "gb_C gb_ed gb_i\n",
      "gb_Jf\n",
      "gb_D gb_pc\n",
      "gb_lg gb_i\n",
      "gb_Jf\n",
      "gb_ce gb_4 gb_Wc\n",
      "gb_2a\n",
      "gb_1a\n",
      "jhp\n",
      "sfbg nojsv\n",
      "sfbgg\n",
      "tsf nj\n",
      "A8SBwf sbfc\n",
      "tNqpRe\n",
      "RNNXgb\n",
      "SDkEP\n",
      "iblpc\n",
      "hsuHs\n",
      "wFncld z1asCe MZy1Rb\n",
      "a4bIc\n",
      "pR49Ae gsfi\n",
      "gLFyf gsfi\n",
      "dRYYxd\n",
      "RLLQQb\n",
      "hpuQDe\n",
      "HPVvwb\n",
      "UUbT9\n",
      "RjPuVb\n",
      "aajZCb\n",
      "xtSCL\n",
      "erkvQe\n",
      "ynRric\n",
      "sbct\n",
      "jKWzZXdEJWi__suggestions-inner-container\n",
      "sbic\n",
      "sbtc\n",
      "sbl1\n",
      "sbab\n",
      "sbai\n",
      "tfB0Bf\n",
      "gNO89b\n",
      "RNmpXc\n",
      "JUypV\n",
      "y yp\n",
      "duf3 aciXEb\n",
      "FPdoLc tfB0Bf\n",
      "gNO89b\n",
      "RNmpXc\n",
      "spch-dlg\n",
      "spch s2fp-h\n",
      "close-button\n",
      "spchc\n",
      "inner-container\n",
      "button-container\n",
      "r8s4j\n",
      "button\n",
      "microphone\n",
      "receiver\n",
      "wrapper\n",
      "stem\n",
      "shell\n",
      "text-container\n",
      "spcht\n",
      "spcht\n",
      "google-logo\n",
      "permission-bar\n",
      "permission-bar-gradient\n",
      "content\n",
      "ctr-p\n",
      "ctr-p\n",
      "EvHmz hRvfYe\n",
      "fbar\n",
      "b2hzT\n",
      "b0KoTc\n",
      "Q8LRLc\n",
      "Fx4vi\n",
      "Fx4vi\n",
      "Fx4vi\n",
      "Fx4vi\n",
      "Fx4vi\n",
      "Fx4vi\n",
      "Fx4vi\n",
      "gb_Fa\n",
      "csi\n"
     ]
    }
   ],
   "source": [
    "from selenium import webdriver\n",
    "\n",
    "driver = webdriver.Chrome()\n",
    "driver.get('http://www.google.com/')\n",
    "\n",
    "ids = driver.find_elements_by_xpath('//*[@class]')\n",
    "\n",
    "for id in ids:\n",
    "    print(id.get_attribute('class'))\n",
    "    \n",
    "driver.quit()"
   ]
  },
  {
   "cell_type": "markdown",
   "metadata": {},
   "source": [
    "# Part-17 (Click by link text):"
   ]
  },
  {
   "cell_type": "code",
   "execution_count": 8,
   "metadata": {},
   "outputs": [],
   "source": [
    "from selenium import webdriver\n",
    "from selenium.webdriver.common.keys import Keys\n",
    "\n",
    "driver = webdriver.Chrome(executable_path=\"C:\\ProgramData\\Anaconda3\\chromedriver.exe\")\n",
    "driver.maximize_window()\n",
    "driver.get('https://www.google.com/')\n",
    "\n",
    "elm = driver.find_element_by_link_text('Business')    # this will open business page of google.com just by link_text\n",
    "driver.implicitly_wait(5)\n",
    "elm.click()"
   ]
  },
  {
   "cell_type": "markdown",
   "metadata": {},
   "source": [
    "# Part-18 (Refresh a webpage):"
   ]
  },
  {
   "cell_type": "code",
   "execution_count": 47,
   "metadata": {},
   "outputs": [],
   "source": [
    "# This program will refresh after 3 seconds of loading....\n",
    "\n",
    "from selenium import webdriver\n",
    "import time\n",
    "\n",
    "driver = webdriver.Chrome()              # object 'driver' is created\n",
    "driver.maximize_window()                 # this will maximize the window\n",
    "driver.get('http://wikipedia.org')\n",
    "\n",
    "time.sleep(3)                            # keep the page for 3 seconds after first loading\n",
    "driver.refresh()                         # refresh the page after 3 seconds of first load\n",
    "time.sleep(2)                            # will keep the refreshed page open for 2 seconds\n",
    "driver.quit()                            # will quite the tab close"
   ]
  },
  {
   "cell_type": "markdown",
   "metadata": {},
   "source": [
    "# Part-19 (Navigation Back Forward Button):"
   ]
  },
  {
   "cell_type": "code",
   "execution_count": 9,
   "metadata": {},
   "outputs": [
    {
     "name": "stdout",
     "output_type": "stream",
     "text": [
      "https://www.google.com/services/?subid=ww-ww-et-g-awa-a-g_hpbfoot1_1!o2&utm_source=google.com&utm_medium=referral&utm_campaign=google_hpbfooter&fg=1#?modal_active=none\n"
     ]
    }
   ],
   "source": [
    "# This program will load the google home page\n",
    "# Then it go to 'Business' page\n",
    "# Then it will come back to home-page\n",
    "\n",
    "from selenium.webdriver.common.keys import Keys\n",
    "from selenium import webdriver\n",
    "import time\n",
    "\n",
    "driver = webdriver.Chrome()\n",
    "driver.maximize_window()\n",
    "driver.get('https://www.google.com/')\n",
    "\n",
    "elm = driver.find_element_by_link_text('Business')\n",
    "time.sleep(4)\n",
    "elm.click()\n",
    "print(driver.current_url)             # this will print the new url of 'Business' page\n",
    "time.sleep(6)\n",
    "driver.back()\n",
    "time.sleep(4)\n",
    "driver.forward()\n",
    "time.sleep(2)\n",
    "\n",
    "driver.quit()"
   ]
  },
  {
   "cell_type": "markdown",
   "metadata": {},
   "source": [
    "# Part-20 (Scroll Down Page):"
   ]
  },
  {
   "cell_type": "code",
   "execution_count": 60,
   "metadata": {},
   "outputs": [],
   "source": [
    "from selenium.webdriver.common.keys import Keys\n",
    "from selenium import webdriver\n",
    "import time\n",
    "\n",
    "driver = webdriver.Chrome()\n",
    "driver.maximize_window()\n",
    "driver.get('http://wikipedia.org')\n",
    "time.sleep(4)\n",
    "\n",
    "elm = driver.find_element_by_tag_name('html')\n",
    "elm.send_keys(Keys.END)\n",
    "time.sleep(6)\n",
    "elm.send_keys(Keys.HOME)\n",
    "time.sleep(3)\n",
    "\n",
    "driver.quit()"
   ]
  },
  {
   "cell_type": "markdown",
   "metadata": {},
   "source": [
    "# Part-21 (Get Browser Version using Python Selenium):"
   ]
  },
  {
   "cell_type": "code",
   "execution_count": 6,
   "metadata": {},
   "outputs": [
    {
     "name": "stdout",
     "output_type": "stream",
     "text": [
      "Chrome version is 79.0.3945.130\n"
     ]
    }
   ],
   "source": [
    "from selenium import webdriver\n",
    "\n",
    "driver = webdriver.Chrome()\n",
    "driver.get('http://bing.com')\n",
    "print(\"Chrome version is \" + driver.capabilities['browserVersion'])"
   ]
  },
  {
   "cell_type": "markdown",
   "metadata": {},
   "source": [
    "# Part-22 (Get Current URL):"
   ]
  },
  {
   "cell_type": "code",
   "execution_count": 53,
   "metadata": {},
   "outputs": [
    {
     "name": "stdout",
     "output_type": "stream",
     "text": [
      "https://www.wikiversity.org/\n"
     ]
    }
   ],
   "source": [
    "from selenium import webdriver\n",
    "from selenium.webdriver.common.keys import Keys\n",
    "from selenium.webdriver.common.by import By\n",
    "\n",
    "driver = webdriver.Firefox(executable_path=\"C:\\ProgramData\\Anaconda3\\geckodriver.exe\")\n",
    "driver.get('http://wikipedia.org')\n",
    "\n",
    "driver.find_element(By.XPATH,\"/html/body/div[6]/div[3]/div[7]/a/div[2]/span[1]\").click()\n",
    "\n",
    "print(driver.current_url)\n",
    "\n",
    "driver.close()"
   ]
  },
  {
   "cell_type": "markdown",
   "metadata": {},
   "source": [
    "# Part-23 (Open new tab in Google Chrome):"
   ]
  },
  {
   "cell_type": "code",
   "execution_count": 3,
   "metadata": {},
   "outputs": [],
   "source": [
    "# This program will load the google home page\n",
    "# Then it go to 'Business' page\n",
    "# Then it will come back to home-page\n",
    "\n",
    "from selenium.webdriver.common.keys import Keys\n",
    "from selenium import webdriver\n",
    "import time\n",
    "\n",
    "driver = webdriver.Firefox(executable_path=\"C:\\ProgramData\\Anaconda3\\geckodriver.exe\")\n",
    "driver.get('https://www.google.com/')\n",
    "driver.find_element_by_tag_name('body').send_keys(Keys.CONTROL + 't')"
   ]
  },
  {
   "cell_type": "markdown",
   "metadata": {},
   "source": [
    "# Additional Task (Auto Login to Facebook):"
   ]
  },
  {
   "cell_type": "code",
   "execution_count": 1,
   "metadata": {},
   "outputs": [
    {
     "name": "stdout",
     "output_type": "stream",
     "text": [
      "Enter username: bukhary72pk@yahoo.com\n",
      "Enter password: ········\n"
     ]
    }
   ],
   "source": [
    "from selenium import webdriver\n",
    "from getpass import getpass\n",
    "\n",
    "username = input(\"Enter username: \")\n",
    "password = getpass(\"Enter password: \")\n",
    "\n",
    "driver = webdriver.Chrome(executable_path=\"C:\\ProgramData\\Anaconda3\\chromedriver.exe\")\n",
    "driver.get(\"https://www.facebook.com/\")\n",
    "driver.maximize_window()\n",
    "\n",
    "username_textbox = driver.find_element_by_id(\"email\")\n",
    "username_textbox.send_keys(username)\n",
    "\n",
    "password_textbox = driver.find_element_by_id(\"pass\")\n",
    "password_textbox.send_keys(password)\n",
    "\n",
    "login_button = driver.find_element_by_id(\"loginbutton\")\n",
    "login_button.submit()\n",
    "\n"
   ]
  },
  {
   "cell_type": "markdown",
   "metadata": {},
   "source": [
    "# Additional Task (WebDriver Explicit wait):"
   ]
  },
  {
   "cell_type": "code",
   "execution_count": 49,
   "metadata": {},
   "outputs": [
    {
     "name": "stdout",
     "output_type": "stream",
     "text": [
      "https://www.expedia.com/Flights-Search?flight-type=on&starDate=02%2F29%2F2020&endDate=02%2F29%2F2020&mode=search&trip=roundtrip&leg1=from%3ASFO%2Cto%3ANYC%2Cdeparture%3A02%2F29%2F2020TANYT&leg2=from%3ANYC%2Cto%3ASFO%2Cdeparture%3A02%2F29%2F2020TANYT&passengers=children%3A0%2Cadults%3A1%2Cseniors%3A0%2Cinfantinlap%3AY\n"
     ]
    }
   ],
   "source": [
    "from selenium import webdriver\n",
    "from selenium.webdriver.common.by import By\n",
    "from selenium.webdriver.support import expected_conditions as EC\n",
    "from selenium.webdriver.support.ui import WebDriverWait\n",
    "import time\n",
    "\n",
    "driver = webdriver.Chrome(executable_path=\"C:\\ProgramData\\Anaconda3\\chromedriver.exe\")\n",
    "\n",
    "driver.implicitly_wait(10)\n",
    "\n",
    "driver.maximize_window()\n",
    "\n",
    "driver.get(\"https://www.expedia.com/\")\n",
    "\n",
    "# driver.find_element_by_id(\"tab-flight-tab-hp\").click()  \n",
    "elm = driver.find_element(By.ID,\"tab-flight-tab-hp\")   # will click on flights button\n",
    "elm.click()\n",
    "time.sleep(2)\n",
    "\n",
    "driver.find_element(By.ID,\"flight-origin-hp-flight\").send_keys(\"SFO\")\n",
    "\n",
    "driver.find_element(By.ID,\"flight-destination-hp-flight\").send_keys(\"NYC\")\n",
    "\n",
    "driver.find_element(By.ID,\"flight-departing-hp-flight\").clear()\n",
    "driver.find_element(By.ID,\"flight-departing-hp-flight\").send_keys(\"02/29/2020\")\n",
    "\n",
    "\n",
    "driver.find_element(By.ID,\"flight-returning-hp-flight\").clear()\n",
    "driver.find_element(By.ID,\"flight-returning-hp-flight\").send_keys(\"08/03/2021\")\n",
    "\n",
    "driver.find_element(By.XPATH,\"//*[@id='gcw-flights-form-hp-flight']/div[7]/label/button\").click()\n",
    "\n",
    "# explicit wait statments\n",
    "wait = WebDriverWait(driver,10)\n",
    "element = wait.until(EC.element_to_be_clickable((By.XPATH, \"//*[@id='stopFilter_stops-0']\")))\n",
    "element.click()\n",
    "\n",
    "time.sleep(3)\n",
    "\n",
    "print(driver.current_url)\n",
    "\n",
    "driver.quit()\n",
    "\n",
    "\n"
   ]
  },
  {
   "cell_type": "markdown",
   "metadata": {},
   "source": [
    "# Part-24 (Click Radio Button):"
   ]
  },
  {
   "cell_type": "code",
   "execution_count": 16,
   "metadata": {},
   "outputs": [],
   "source": [
    "from selenium import webdriver\n",
    "from selenium.webdriver.common.keys import Keys\n",
    "from selenium.webdriver.common.by import By\n",
    "import time\n",
    "\n",
    "driver = webdriver.Chrome(executable_path='C:\\ProgramData\\Anaconda3\\chromedriver.exe')\n",
    "driver.implicitly_wait(8)\n",
    "driver.get('https://www.zkoss.org/zkdemo/input/radio_button')\n",
    "\n",
    "# driver.find_element_by_xpath(\"//*[@type='radio']\").click()\n",
    "\n",
    "for i in driver.find_element_by_xpath(\"//*[@type='radio']\"):\n",
    "    i.click()\n",
    "time.sleep(6)\n"
   ]
  },
  {
   "cell_type": "markdown",
   "metadata": {},
   "source": [
    "# Part-25 (Click on Checkbox):"
   ]
  },
  {
   "cell_type": "code",
   "execution_count": 20,
   "metadata": {},
   "outputs": [
    {
     "data": {
      "text/plain": [
       "'https://about.google/?utm_source=google-PK&utm_medium=referral&utm_campaign=hp-footer&fg=1'"
      ]
     },
     "execution_count": 20,
     "metadata": {},
     "output_type": "execute_result"
    }
   ],
   "source": [
    "from selenium import webdriver\n",
    "from selenium.webdriver.common.keys import Keys\n",
    "from selenium.webdriver.common.by import By\n",
    "import time\n",
    "\n",
    "driver = webdriver.Chrome(executable_path='C:\\ProgramData\\Anaconda3\\chromedriver.exe')\n",
    "driver.get('https://www.google.com')\n",
    "\n",
    "elm = driver.find_element(By.LINK_TEXT,\"About\")\n",
    "elm.click()\n",
    "\n",
    "driver.current_url"
   ]
  },
  {
   "cell_type": "markdown",
   "metadata": {},
   "source": [
    "### This practice is completed by following videos of youtube channel i.e. \n",
    "<a target=\"_blank\" href=\"https://www.youtube.com/playlist?list=PLUY1lsOTtPeJNBuSweXS9pcSKbP4mr32S\" >Source Videos</a>"
   ]
  },
  {
   "cell_type": "code",
   "execution_count": null,
   "metadata": {},
   "outputs": [],
   "source": []
  }
 ],
 "metadata": {
  "kernelspec": {
   "display_name": "Python 3",
   "language": "python",
   "name": "python3"
  },
  "language_info": {
   "codemirror_mode": {
    "name": "ipython",
    "version": 3
   },
   "file_extension": ".py",
   "mimetype": "text/x-python",
   "name": "python",
   "nbconvert_exporter": "python",
   "pygments_lexer": "ipython3",
   "version": "3.7.3"
  }
 },
 "nbformat": 4,
 "nbformat_minor": 2
}
