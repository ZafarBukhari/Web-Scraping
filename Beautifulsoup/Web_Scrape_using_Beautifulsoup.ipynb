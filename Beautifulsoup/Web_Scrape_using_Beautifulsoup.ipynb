{
 "cells": [
  {
   "cell_type": "code",
   "execution_count": 1,
   "metadata": {},
   "outputs": [],
   "source": [
    "import requests\n",
    "import json\n",
    "from bs4 import BeautifulSoup\n",
    "\n",
    "header = {'User-Agent': 'Mozilla/5.0 (Windows; U; Windows NT 5.1; en-US; rv:1.9.0.7) Gecko/2009021910 Firefox/3.0.7'}\n",
    "\n",
    "base_url = \"http://books.toscrape.com/\"\n",
    "\n",
    "r = requests.get(base_url,headers=header)\n",
    "\n",
    "if r.status_code == 200:\n",
    "  soup = BeautifulSoup(r.text, 'html.parser')\n",
    "  books = soup.find_all('li',attrs={\"class\":\"col-xs-6 col-sm-4 col-md-3 col-lg-3\"})\n",
    "  result=[]\n",
    "  for book in books:\n",
    "    title=book.find('h3').text\n",
    "    link=base_url +book.find('a')['href']\n",
    "    stars = str(len(book.find_all('i',attrs=  {\"class\":\"icon-star\"}))) + \" out of 5\"\n",
    "    price=\"$\"+book.find('p',attrs={'class':'price_color'}).text[2:]\n",
    "    picture = base_url + book.find('img')['src']\n",
    "    single ={'title':title,'stars':stars,'price':price,'link':link,'picture':picture}\n",
    "    result.append(single)\n",
    "    with open('books.json','w') as f:\n",
    "      json.dump(result,f,indent=4)\n",
    "else:\n",
    "  print(r.status_code)"
   ]
  },
  {
   "cell_type": "code",
   "execution_count": 5,
   "metadata": {},
   "outputs": [
    {
     "name": "stdout",
     "output_type": "stream",
     "text": [
      "[{'title': 'A Light in the ...', 'stars': '5 out of 5', 'price': '$51.77', 'link': 'http://books.toscrape.com/catalogue/a-light-in-the-attic_1000/index.html', 'picture': 'http://books.toscrape.com/media/cache/2c/da/2cdad67c44b002e7ead0cc35693c0e8b.jpg'}, {'title': 'Tipping the Velvet', 'stars': '5 out of 5', 'price': '$53.74', 'link': 'http://books.toscrape.com/catalogue/tipping-the-velvet_999/index.html', 'picture': 'http://books.toscrape.com/media/cache/26/0c/260c6ae16bce31c8f8c95daddd9f4a1c.jpg'}, {'title': 'Soumission', 'stars': '5 out of 5', 'price': '$50.10', 'link': 'http://books.toscrape.com/catalogue/soumission_998/index.html', 'picture': 'http://books.toscrape.com/media/cache/3e/ef/3eef99c9d9adef34639f510662022830.jpg'}, {'title': 'Sharp Objects', 'stars': '5 out of 5', 'price': '$47.82', 'link': 'http://books.toscrape.com/catalogue/sharp-objects_997/index.html', 'picture': 'http://books.toscrape.com/media/cache/32/51/3251cf3a3412f53f339e42cac2134093.jpg'}, {'title': 'Sapiens: A Brief History ...', 'stars': '5 out of 5', 'price': '$54.23', 'link': 'http://books.toscrape.com/catalogue/sapiens-a-brief-history-of-humankind_996/index.html', 'picture': 'http://books.toscrape.com/media/cache/be/a5/bea5697f2534a2f86a3ef27b5a8c12a6.jpg'}]\n"
     ]
    }
   ],
   "source": [
    "with open('books.json') as j:\n",
    "    contents = json.load(j)\n",
    "print(contents[:5])"
   ]
  },
  {
   "cell_type": "code",
   "execution_count": null,
   "metadata": {},
   "outputs": [],
   "source": []
  }
 ],
 "metadata": {
  "kernelspec": {
   "display_name": "Python 3",
   "language": "python",
   "name": "python3"
  },
  "language_info": {
   "codemirror_mode": {
    "name": "ipython",
    "version": 3
   },
   "file_extension": ".py",
   "mimetype": "text/x-python",
   "name": "python",
   "nbconvert_exporter": "python",
   "pygments_lexer": "ipython3",
   "version": "3.7.3"
  }
 },
 "nbformat": 4,
 "nbformat_minor": 2
}
