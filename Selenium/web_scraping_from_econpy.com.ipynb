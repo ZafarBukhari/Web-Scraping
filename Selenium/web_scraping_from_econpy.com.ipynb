{
 "cells": [
  {
   "cell_type": "markdown",
   "metadata": {},
   "source": [
    "# Web Scraping using Selenium"
   ]
  },
  {
   "cell_type": "markdown",
   "metadata": {},
   "source": [
    "- https://www.youtube.com/watch?v=zjo9yFHoUl8"
   ]
  },
  {
   "cell_type": "code",
   "execution_count": 1,
   "metadata": {},
   "outputs": [
    {
     "name": "stdout",
     "output_type": "stream",
     "text": [
      "Carson Busses : $29.95\n",
      "Earl E. Byrd : $8.37\n",
      "Patty Cakes : $15.26\n",
      "Derri Anne Connecticut : $19.25\n",
      "Moe Dess : $19.25\n",
      "Leda Doggslife : $13.99\n",
      "Dan Druff : $31.57\n",
      "Al Fresco : $8.49\n",
      "Ido Hoe : $14.47\n",
      "Howie Kisses : $15.86\n",
      "Len Lease : $11.11\n",
      "Phil Meup : $15.98\n",
      "Ira Pent : $16.27\n",
      "Ben D. Rules : $7.50\n",
      "Ave Sectomy : $50.85\n",
      "Gary Shattire : $14.26\n",
      "Bobbi Soks : $5.68\n",
      "Sheila Takya : $15.00\n",
      "Rose Tattoo : $114.07\n",
      "Moe Tell : $10.09\n"
     ]
    }
   ],
   "source": [
    "from selenium import webdriver\n",
    "\n",
    "driver = webdriver.Chrome()\n",
    "\n",
    "driver.get('http://econpy.pythonanywhere.com/ex/001.html')\n",
    "\n",
    "buyers = driver.find_elements_by_xpath('//div[@title=\"buyer-name\"]')\n",
    "prices = driver.find_elements_by_xpath('//span[@class=\"item-price\"]')\n",
    "\n",
    "num_page_items = len(buyers)\n",
    "\n",
    "for i in range(num_page_items):\n",
    "    print(buyers[i].text + \" : \" + prices[i].text)\n",
    "\n",
    "driver.close()"
   ]
  },
  {
   "cell_type": "markdown",
   "metadata": {},
   "source": [
    "- https://www.youtube.com/watch?v=Z3vFdtZ7d-g"
   ]
  },
  {
   "cell_type": "code",
   "execution_count": 2,
   "metadata": {},
   "outputs": [],
   "source": [
    "import csv\n",
    "from selenium import webdriver\n",
    "\n",
    "max_page_num = 5\n",
    "max_page_dig = 3\n",
    "\n",
    "with open(\"result.csv\", \"w\") as f:\n",
    "    f.write(\"Buyers, Price \\n\")\n",
    "    \n",
    "driver = webdriver.Chrome()\n",
    "\n",
    "for i in range(1,max_page_num + 1):\n",
    "    page_num = (max_page_dig - len(str(i))) * \"0\" + str(i)\n",
    "    url = \"http://econpy.pythonanywhere.com/ex/\" + page_num + \".html\"\n",
    "    \n",
    "    driver.get(url)\n",
    "    \n",
    "    buyers = driver.find_elements_by_xpath('//div[@title=\"buyer-name\"]')\n",
    "    prices = driver.find_elements_by_xpath('//span[@class=\"item-price\"]')\n",
    "    \n",
    "    num_page_items = len(buyers)\n",
    "    with open(\"result.csv\", \"a\") as f:\n",
    "        for i in range(num_page_items):\n",
    "            f.write(buyers[i].text + \",\" + prices[i].text + \"\\n\")\n",
    "    \n",
    "driver.close()"
   ]
  },
  {
   "cell_type": "markdown",
   "metadata": {},
   "source": [
    "## Incrementing Page Numbers:"
   ]
  },
  {
   "cell_type": "code",
   "execution_count": 3,
   "metadata": {},
   "outputs": [
    {
     "name": "stdout",
     "output_type": "stream",
     "text": [
      "001\n",
      "002\n",
      "003\n",
      "004\n",
      "005\n"
     ]
    }
   ],
   "source": [
    "import csv\n",
    "from selenium import webdriver\n",
    "\n",
    "max_page_num = 5\n",
    "max_page_dig = 3     # this depicts the page number format\n",
    "\n",
    "with open(\"test.csv\", \"w\") as f:\n",
    "    f.write(\"Buyers, Price \\n\")\n",
    "    \n",
    "driver = webdriver.Chrome()\n",
    "\n",
    "for i in range(1,max_page_num + 1):\n",
    "    page_num = (max_page_dig - len(str(i))) * \"0\" + str(i)   # this will add 'double-zero' as a suffix in page-number\n",
    "    print(page_num)"
   ]
  }
 ],
 "metadata": {
  "kernelspec": {
   "display_name": "Python 3",
   "language": "python",
   "name": "python3"
  },
  "language_info": {
   "codemirror_mode": {
    "name": "ipython",
    "version": 3
   },
   "file_extension": ".py",
   "mimetype": "text/x-python",
   "name": "python",
   "nbconvert_exporter": "python",
   "pygments_lexer": "ipython3",
   "version": "3.7.3"
  }
 },
 "nbformat": 4,
 "nbformat_minor": 2
}
